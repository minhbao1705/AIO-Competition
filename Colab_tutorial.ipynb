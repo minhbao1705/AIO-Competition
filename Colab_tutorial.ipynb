{
  "nbformat": 4,
  "nbformat_minor": 0,
  "metadata": {
    "colab": {
      "provenance": [],
      "authorship_tag": "ABX9TyOXrTIzS5B/JO2yBHlN2RM7",
      "include_colab_link": true
    },
    "kernelspec": {
      "name": "python3",
      "display_name": "Python 3"
    },
    "language_info": {
      "name": "python"
    }
  },
  "cells": [
    {
      "cell_type": "markdown",
      "metadata": {
        "id": "view-in-github",
        "colab_type": "text"
      },
      "source": [
        "<a href=\"https://colab.research.google.com/github/minhbao1705/AIO-Competition/blob/main/Colab_tutorial.ipynb\" target=\"_parent\"><img src=\"https://colab.research.google.com/assets/colab-badge.svg\" alt=\"Open In Colab\"/></a>"
      ]
    },
    {
      "cell_type": "markdown",
      "source": [
        "- Hướng dẫn chạy file python từ cell colab \n",
        "- Hướng dẫn install thư viện từ cell và requirement file \n",
        "- Hướng dẫn import function từ file python vào cell colab (source https://github.com/anminhhung/fast_config_polygon)"
      ],
      "metadata": {
        "id": "vyL8ypJlIiDa"
      }
    },
    {
      "cell_type": "markdown",
      "source": [
        "Trong colab khi in biến có thể không cần lệnh print, nhưng khi in 2 biến a, b mà không có print thì nó sẽ ưu tiên in biến đằng sau."
      ],
      "metadata": {
        "id": "99cvArYXJDfh"
      }
    },
    {
      "cell_type": "code",
      "execution_count": 1,
      "metadata": {
        "colab": {
          "base_uri": "https://localhost:8080/"
        },
        "id": "oQllMEHkIaZn",
        "outputId": "5d3b4e0d-b308-4785-ac0d-c91ee2ffeafa"
      },
      "outputs": [
        {
          "output_type": "stream",
          "name": "stdout",
          "text": [
            "10\n"
          ]
        },
        {
          "output_type": "execute_result",
          "data": {
            "text/plain": [
              "5"
            ]
          },
          "metadata": {},
          "execution_count": 1
        }
      ],
      "source": [
        "a = 10\n",
        "b = 5\n",
        "\n",
        "print(a)\n",
        "b"
      ]
    },
    {
      "cell_type": "markdown",
      "source": [
        "Tương tự với việc lấy function cũng không cần lệnh print"
      ],
      "metadata": {
        "id": "mn8cNtbuJtYU"
      }
    },
    {
      "cell_type": "code",
      "source": [
        "def sum(a, b):\n",
        "  return a + b\n",
        "\n",
        "sum(1, 2)"
      ],
      "metadata": {
        "colab": {
          "base_uri": "https://localhost:8080/"
        },
        "id": "Nh2FFZOHJk22",
        "outputId": "08d0784f-d815-4b72-8b05-9e6d4a324a5d"
      },
      "execution_count": 3,
      "outputs": [
        {
          "output_type": "execute_result",
          "data": {
            "text/plain": [
              "3"
            ]
          },
          "metadata": {},
          "execution_count": 3
        }
      ]
    },
    {
      "cell_type": "markdown",
      "source": [
        "Dùng lệnh terminal phải có dấu !"
      ],
      "metadata": {
        "id": "tlJn210AJ4aY"
      }
    },
    {
      "cell_type": "code",
      "source": [
        "!mkdir text"
      ],
      "metadata": {
        "id": "kWD3CVRWJrkT"
      },
      "execution_count": 5,
      "outputs": []
    },
    {
      "cell_type": "markdown",
      "source": [
        "lệnh cd chỉ cd ngay tới dòng cell, muốn cd toàn vòng cell thì phải dùng %"
      ],
      "metadata": {
        "id": "adze3vdbKEYF"
      }
    },
    {
      "cell_type": "code",
      "source": [
        "%cd text\n",
        "!pwd"
      ],
      "metadata": {
        "colab": {
          "base_uri": "https://localhost:8080/"
        },
        "id": "p5C01JZAJ8Bq",
        "outputId": "8d70d659-a81e-471b-99fa-ea3883c906c0"
      },
      "execution_count": 7,
      "outputs": [
        {
          "output_type": "stream",
          "name": "stdout",
          "text": [
            "/content/text\n",
            "/content/text\n"
          ]
        }
      ]
    },
    {
      "cell_type": "code",
      "source": [
        "!mkdir demo"
      ],
      "metadata": {
        "id": "ryznWhihKWVV"
      },
      "execution_count": 8,
      "outputs": []
    },
    {
      "cell_type": "markdown",
      "source": [
        "Ta có thể inbox một function ngay trong mọt file python"
      ],
      "metadata": {
        "id": "Nt83AsDiKf2Q"
      }
    },
    {
      "cell_type": "code",
      "source": [
        "!touch demo.py"
      ],
      "metadata": {
        "id": "7UgejWo8KZ7Z"
      },
      "execution_count": 9,
      "outputs": []
    },
    {
      "cell_type": "code",
      "source": [
        "!python demo.py"
      ],
      "metadata": {
        "colab": {
          "base_uri": "https://localhost:8080/"
        },
        "id": "ZYppn3B-LJZ4",
        "outputId": "a70b4c86-cb8c-4fa6-bc0f-6529f8038409"
      },
      "execution_count": 10,
      "outputs": [
        {
          "output_type": "stream",
          "name": "stdout",
          "text": [
            "3\n"
          ]
        }
      ]
    },
    {
      "cell_type": "code",
      "source": [
        "from demo import sum"
      ],
      "metadata": {
        "id": "xEJPSxBPLTLv"
      },
      "execution_count": 11,
      "outputs": []
    },
    {
      "cell_type": "code",
      "source": [
        "sum(3, 4)"
      ],
      "metadata": {
        "colab": {
          "base_uri": "https://localhost:8080/"
        },
        "id": "YMm76hEvLU7v",
        "outputId": "a9664600-93e6-437b-f118-92e297e79738"
      },
      "execution_count": 12,
      "outputs": [
        {
          "output_type": "execute_result",
          "data": {
            "text/plain": [
              "7"
            ]
          },
          "metadata": {},
          "execution_count": 12
        }
      ]
    },
    {
      "cell_type": "code",
      "source": [
        "from google.colab import drive\n",
        "drive.mount('/content/drive')"
      ],
      "metadata": {
        "colab": {
          "base_uri": "https://localhost:8080/"
        },
        "id": "nlUuaW7nLWwR",
        "outputId": "e3d28ee3-3514-48db-89bd-87d7b700ae28"
      },
      "execution_count": 15,
      "outputs": [
        {
          "output_type": "stream",
          "name": "stdout",
          "text": [
            "Mounted at /content/drive\n"
          ]
        }
      ]
    }
  ]
}