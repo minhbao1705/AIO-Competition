{
  "nbformat": 4,
  "nbformat_minor": 0,
  "metadata": {
    "colab": {
      "provenance": [],
      "authorship_tag": "ABX9TyN2tD80wcH4voV+YiJWXYdZ",
      "include_colab_link": true
    },
    "kernelspec": {
      "name": "python3",
      "display_name": "Python 3"
    },
    "language_info": {
      "name": "python"
    }
  },
  "cells": [
    {
      "cell_type": "markdown",
      "metadata": {
        "id": "view-in-github",
        "colab_type": "text"
      },
      "source": [
        "<a href=\"https://colab.research.google.com/github/minhbao1705/AIO-Competition/blob/main/Metrics_for_regression.ipynb\" target=\"_parent\"><img src=\"https://colab.research.google.com/assets/colab-badge.svg\" alt=\"Open In Colab\"/></a>"
      ]
    },
    {
      "cell_type": "markdown",
      "source": [
        "# Mean Square Error (MSE)\n",
        "\n",
        "Mean Square Error được tính bằng trung bình cộng của bình phương chênh lệch giữa dự đoán và quan sát thực tế.\n",
        "\n",
        "$$ MSE = \\frac{\\sum_{i=1}^n(y_i-\\hat{y}_i)^2}{n} $$"
      ],
      "metadata": {
        "id": "x4lvYwX2aVqD"
      }
    },
    {
      "cell_type": "code",
      "execution_count": 3,
      "metadata": {
        "id": "3h1KyTtGY8UY",
        "colab": {
          "base_uri": "https://localhost:8080/"
        },
        "outputId": "3d36e5d0-7a90-4a2d-f4ab-3071cb2601fc"
      },
      "outputs": [
        {
          "output_type": "stream",
          "name": "stdout",
          "text": [
            "0.19666666666666674\n",
            "0.09000000000000001\n"
          ]
        }
      ],
      "source": [
        "# Thư viện dùng để đối chiếu kết quả\n",
        "import numpy as np\n",
        "from sklearn.metrics import mean_squared_error\n",
        "\n",
        "act = np.array([1, 2, 3])\n",
        "pred = np.array([1.1, 2.3, 3.7])\n",
        "\n",
        "pred_2 = ([1.1, 2.1, 3.5])\n",
        "\n",
        "print(mean_squared_error(act, pred))\n",
        "print(mean_squared_error(act, pred_2))"
      ]
    },
    {
      "cell_type": "code",
      "source": [
        "import numpy as np\n",
        "\n",
        "def my_mean_squared_error(act, pred):\n",
        "  differences_squared = (pred - act)**2\n",
        "  mean_diff = differences_squared.mean()\n",
        "  # mean_diff = sum(differences_squared) / len(act)\n",
        "\n",
        "  return mean_diff\n",
        "\n",
        "act = np.array([1, 2, 3])\n",
        "pred = np.array([1.1, 2.3, 3.7])\n",
        "\n",
        "pred_2 = ([1.1, 2.1, 3.5])\n",
        "\n",
        "print(my_mean_squared_error(act, pred))\n",
        "print(my_mean_squared_error(act, pred_2))"
      ],
      "metadata": {
        "colab": {
          "base_uri": "https://localhost:8080/"
        },
        "id": "LHS7F1JosCe3",
        "outputId": "f2883a41-c27f-4bfb-e2e3-c8b961cc954d"
      },
      "execution_count": 10,
      "outputs": [
        {
          "output_type": "stream",
          "name": "stdout",
          "text": [
            "0.19666666666666674\n",
            "0.09000000000000001\n"
          ]
        }
      ]
    },
    {
      "cell_type": "markdown",
      "source": [
        "# Root Mean Square Error (RMSE)\n",
        "\n",
        "\n",
        "Root Mean Square Error được tính là căn bậc hai của MSE.\n",
        "\n",
        "$$ RMSE = \\sqrt{\\sum_{i=1}^n{\\frac{(y_i-\\hat{y}_i)^2}{n}}} $$"
      ],
      "metadata": {
        "id": "HNRkkmubwk9g"
      }
    },
    {
      "cell_type": "code",
      "source": [
        "# Thử viện dùng để đối chiếu kết quả\n",
        "from sklearn.metrics import mean_squared_error\n",
        "\n",
        "act = np.array([1, 2, 3])\n",
        "pred = np.array([1.1, 2.3, 3.7])\n",
        "\n",
        "mean_squared_error(act, pred, squared = False) # squared là True thì sẽ tính là bình phương, bỏ đi thì sẽ lấy căn"
      ],
      "metadata": {
        "colab": {
          "base_uri": "https://localhost:8080/"
        },
        "id": "nLrIBWV_uQD4",
        "outputId": "5b8c270a-dab4-464c-96d7-64f88d0cd855"
      },
      "execution_count": 12,
      "outputs": [
        {
          "output_type": "execute_result",
          "data": {
            "text/plain": [
              "0.44347115652166913"
            ]
          },
          "metadata": {},
          "execution_count": 12
        }
      ]
    },
    {
      "cell_type": "code",
      "source": [
        "import numpy as np\n",
        "\n",
        "def my_mean_squared_error(act, pred):\n",
        "  differences_squared = (pred - act)**2\n",
        "  mean_diff = differences_squared.mean()\n",
        "  # mean_diff = sum(differences_squared) / len(act)\n",
        "  rmse_val = np.sqrt(mean_diff)\n",
        "\n",
        "  return rmse_val\n",
        "\n",
        "act = np.array([1, 2, 3])\n",
        "pred = np.array([1.1, 2.3, 3.7])\n",
        "\n",
        "pred_2 = ([1.1, 2.1, 3.5])\n",
        "\n",
        "print(my_mean_squared_error(act, pred))\n",
        "print(my_mean_squared_error(act, pred_2))"
      ],
      "metadata": {
        "colab": {
          "base_uri": "https://localhost:8080/"
        },
        "id": "NA2IT9XNw8IG",
        "outputId": "a3453f4d-0110-4920-fdbe-dd53708fc46b"
      },
      "execution_count": 13,
      "outputs": [
        {
          "output_type": "stream",
          "name": "stdout",
          "text": [
            "0.44347115652166913\n",
            "0.30000000000000004\n"
          ]
        }
      ]
    },
    {
      "cell_type": "markdown",
      "source": [
        "# Mean Absolute Error (MAE)\n",
        "Mean Absolute Error được tính bằng giá trị trung bình của chênh lệch tuyệt đối giữa dự đoán và quan sát thực tế\n",
        "\n",
        "$$ MAE = \\frac{1}{n}\\sum_{i=1}^n|y_i-\\hat{y}_i| $$"
      ],
      "metadata": {
        "id": "HNj3sJAyxdwX"
      }
    },
    {
      "cell_type": "code",
      "source": [
        "# Thư viện dùng để đối chiếu kết quả\n",
        "from sklearn.metrics import mean_absolute_error\n",
        "\n",
        "act = np.array([1, 2, 3])\n",
        "pred = np.array([1.1, 2.3, 3.7])\n",
        "\n",
        "mean_absolute_error(act, pred)"
      ],
      "metadata": {
        "colab": {
          "base_uri": "https://localhost:8080/"
        },
        "id": "87ATsO4yxV7h",
        "outputId": "c6c2a83e-4a92-4a39-9113-d474305df9d0"
      },
      "execution_count": 14,
      "outputs": [
        {
          "output_type": "execute_result",
          "data": {
            "text/plain": [
              "0.3666666666666667"
            ]
          },
          "metadata": {},
          "execution_count": 14
        }
      ]
    },
    {
      "cell_type": "code",
      "source": [
        "import numpy as np\n",
        "\n",
        "def my_mean_squared_error(act, pred):\n",
        "  differences_squared = np.abs(pred - act)\n",
        "  mean_diff = differences_squared.mean()\n",
        "  # mean_diff = sum(differences_squared) / len(act)\n",
        "\n",
        "  return mean_diff\n",
        "\n",
        "act = np.array([1, 2, 3])\n",
        "pred = np.array([1.1, 2.3, 3.7])\n",
        "\n",
        "pred_2 = ([1.1, 2.1, 3.5])\n",
        "\n",
        "print(my_mean_squared_error(act, pred))\n",
        "print(my_mean_squared_error(act, pred_2))"
      ],
      "metadata": {
        "colab": {
          "base_uri": "https://localhost:8080/"
        },
        "id": "aGbgZ9Edxyz3",
        "outputId": "f3cba176-07fa-4d40-ff2a-edfa14d4b636"
      },
      "execution_count": 15,
      "outputs": [
        {
          "output_type": "stream",
          "name": "stdout",
          "text": [
            "0.3666666666666667\n",
            "0.2333333333333334\n"
          ]
        }
      ]
    },
    {
      "cell_type": "code",
      "source": [],
      "metadata": {
        "id": "x4ZabHbwyBdU"
      },
      "execution_count": null,
      "outputs": []
    }
  ]
}