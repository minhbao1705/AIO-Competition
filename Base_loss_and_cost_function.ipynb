{
  "nbformat": 4,
  "nbformat_minor": 0,
  "metadata": {
    "colab": {
      "provenance": [],
      "authorship_tag": "ABX9TyOnA5LquJQobo0rx6TBHIb+",
      "include_colab_link": true
    },
    "kernelspec": {
      "name": "python3",
      "display_name": "Python 3"
    },
    "language_info": {
      "name": "python"
    }
  },
  "cells": [
    {
      "cell_type": "markdown",
      "metadata": {
        "id": "view-in-github",
        "colab_type": "text"
      },
      "source": [
        "<a href=\"https://colab.research.google.com/github/minhbao1705/AIO-Competition/blob/main/Base_loss_and_cost_function.ipynb\" target=\"_parent\"><img src=\"https://colab.research.google.com/assets/colab-badge.svg\" alt=\"Open In Colab\"/></a>"
      ]
    },
    {
      "cell_type": "markdown",
      "source": [
        "**Loss Function** được định nghĩa trên một điểm dữ liệu bằng việc xét kết quả dự đoán của model và ground truth của điểm dữ liệu đó để tính độ lỗi."
      ],
      "metadata": {
        "id": "Shjhs6lTVPsL"
      }
    },
    {
      "cell_type": "markdown",
      "source": [
        "Nếu model dự đoán đúng thì sẽ không phạt. Nhưng trong quá trình tính toán có nhân, cộng, trừ và có chia nên để số 0 sẽ có thể bị lỗi nên ta sẽ để 0.001 để tránh trường hợp bị lỗi trong quá trình chia cho 0.\n",
        "\n",
        "Khi model dự đoán sai thì phải phạt thật nặng. Tương tự cũng có cộng, trừ, nhân, chia. Nên khi nhân 1000 số quá to bị tràn số nên ta sẽ phạt 10 hoặc 100. "
      ],
      "metadata": {
        "id": "ATEcVYreTZ-w"
      }
    },
    {
      "cell_type": "code",
      "execution_count": null,
      "metadata": {
        "id": "RGOlsS8TKUnf"
      },
      "outputs": [],
      "source": [
        "\"\"\"\n",
        "  y_pred là kết quả dự đoán của model \n",
        "  y_hat là ground truth (nhãn) của điểm dữ liệu \n",
        "\"\"\"\n",
        "def naive_loss_function(y_pred, y_hat):\n",
        "  if y_pred == y_hat: # So sánh kết quả model dự đoán và nhãn (label) có sẵn.\n",
        "    return 0\n",
        "  else:\n",
        "    return 1\n",
        "\n",
        "# Khi model dự đoán sai: thì phải phạt (loss) thật nặng => loss càng cao thì \n",
        "  # model sẽ càng chú ý vào điểm dữ liệu đó trong lần lặp tiếp theo để sửa lỗi\n",
        "\"\"\"\n",
        "  list_y_pred là danh sách kết quả dự đoán của model \n",
        "  list_y_hat là danh sách ground truth (nhãn) của điểm dữ liệu \n",
        "\"\"\"\n",
        "def base_cost_function(list_y_pred, list_y_hat):\n",
        "  loss = 0\n",
        "  for y_pred, y_hat in zip(list_y_pred, list_y_hat):\n",
        "    loss += naive_loss_function(y_pred, y_hat) # Tính tổng\n",
        "\n",
        "  return loss # return tính tổng\n",
        "  # return loss/n # loss/len(list_y_pred) - trung bình cộng"
      ]
    },
    {
      "cell_type": "code",
      "source": [
        "list_y_pred = [\"Cat\", \"Dog\", \"Cat\", \"Cat\", \"Cat\"]\n",
        "list_y_hat = [\"Cat\", \"Cat\", \"Cat\", \"Cat\", \"Cat\"]\n",
        "\n",
        "print(base_cost_function(list_y_pred, list_y_hat))"
      ],
      "metadata": {
        "colab": {
          "base_uri": "https://localhost:8080/"
        },
        "id": "8_RVTMB1RPxz",
        "outputId": "22178faa-09d7-42ea-95c8-21ed06cac8e4"
      },
      "execution_count": null,
      "outputs": [
        {
          "output_type": "stream",
          "name": "stdout",
          "text": [
            "1\n"
          ]
        }
      ]
    },
    {
      "cell_type": "markdown",
      "source": [
        "Nếu xét trên nhiều điểm dữ liệu thì ta có định nghĩa mới là Cost Function. Thay vì model predict trên nhiều điểm dữ liệu hoàn toàn bộ dữ liệu thì loss function chuyển thành tên mới thành cost function.\n",
        "\n",
        "**Cost Function** tính toán trên toàn bộ dữ liệu (hoặc một phần từ tập dữ liệu) tính toán tổng hoặc trung bình độ lỗi của các điểm dữ liệu đang xét.\n",
        "\n",
        "Cost Function"
      ],
      "metadata": {
        "id": "rv7xpqnOVmOz"
      }
    },
    {
      "cell_type": "markdown",
      "source": [
        "Loss Function (hay Cost Function) sẽ ảnh hưởng đến quá trình đánh trọng số vào qua cơ chế đạo hàm, nguyên hàm,..."
      ],
      "metadata": {
        "id": "mhrbazRIWzGC"
      }
    },
    {
      "cell_type": "markdown",
      "source": [
        "Objective Function là một trường hợp tổng quát của Cost Function mà liên quan đến vấn đề tối ưu thuật toán machine learning, deep learning của mình.\n",
        "\n",
        "*   **Objective Function**: tham gia vào quá trình training của mình. Bằng cách tối thiểu hóa độ lỗi (error minimization) và tối đa hóa độ chính xác của mình - Ảnh hưởng đến quá trình học của model.\n",
        "*   **Evaluation metric**: sẽ không tham gia vào bất cứ quá trình nào - Không ảnh hưởng đến quá trình học của model."
      ],
      "metadata": {
        "id": "-pV6_eXKdFTf"
      }
    },
    {
      "cell_type": "code",
      "source": [],
      "metadata": {
        "id": "ZBqaqFHwRUx8"
      },
      "execution_count": null,
      "outputs": []
    }
  ]
}